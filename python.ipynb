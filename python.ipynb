{
 "cells": [
  {
   "attachments": {},
   "cell_type": "markdown",
   "metadata": {},
   "source": [
    "# Hii there this a python notebook for learn beginner to advance level ."
   ]
  },
  {
   "cell_type": "code",
   "execution_count": null,
   "metadata": {},
   "outputs": [],
   "source": [
    "# print simple hello world\n",
    "print('hello world')\n",
    "# print integer\n",
    "print(4)\n",
    "# print float\n",
    "print(4.5)\n",
    "# print string\n",
    "print('4')\n",
    "# print multiple\n",
    "print('hello', 'world')"
   ]
  },
  {
   "attachments": {},
   "cell_type": "markdown",
   "metadata": {},
   "source": [
    "## python supports 3 categories of data types:\n",
    "- Basic types:(integer,float,boolean and string )\n",
    "- Sequence types:(list,tuple and range)\n",
    "- Mapping types:(dictionary)\n",
    "- User defined :classes"
   ]
  },
  {
   "cell_type": "code",
   "execution_count": null,
   "metadata": {},
   "outputs": [],
   "source": [
    "# data types in python \n",
    "#integer\n",
    "print(4)\n",
    "#float\n",
    "print(4.5)\n",
    "#string\n",
    "print('discus')\n",
    "#boolean\n",
    "print(True)\n",
    "# complex\n",
    "print(1+2j)\n",
    "#list\n",
    "print([1,2,3])\n",
    "#tuple\n",
    "print((1,2,3))\n",
    "#dictionary\n",
    "print({'a':1, 'b':2})\n",
    "#set\n",
    "print({1,2,3})\n"
   ]
  },
  {
   "cell_type": "code",
   "execution_count": null,
   "metadata": {},
   "outputs": [],
   "source": [
    "# comments\n",
    "# this is a comment to improve code readablity\n",
    "print('hello world') # this is also a comment"
   ]
  },
  {
   "cell_type": "code",
   "execution_count": null,
   "metadata": {},
   "outputs": [],
   "source": [
    "# variables\n",
    "name='asdasd'\n",
    "print(name)\n",
    "# multiple\n",
    "a,b,c=1,2,3\n",
    "print(a,b,c)\n",
    "# multiple\n",
    "a=b=c=1\n",
    "print(a,b,c)\n",
    "# multiple\n",
    "a=1;b=2;c=3\n",
    "print(a,b,c)\n"
   ]
  },
  {
   "attachments": {},
   "cell_type": "markdown",
   "metadata": {},
   "source": [
    "## Keywords\n",
    "- python is a case sensitive language .\n",
    "- Keywords are the reserved words in Python.\n",
    "- We cannot use a keyword as a variable name, function name or any other identifier.\n",
    "- They are used to define the syntax and structure of the Python language.\n",
    "- All the keywords except True, False and None are in lowercase and they must be written as it is."
   ]
  },
  {
   "cell_type": "code",
   "execution_count": null,
   "metadata": {},
   "outputs": [],
   "source": [
    "# python has 33 keywords\n",
    "import keyword\n",
    "print(keyword.kwlist) #kwlist for keyword list "
   ]
  },
  {
   "attachments": {},
   "cell_type": "markdown",
   "metadata": {},
   "source": [
    "## Identifier\n",
    "- An identifier is a name given to entities like class, functions, variables, etc. It helps to differentiate one entity from another.\n",
    "- Rules for writing identifiers:\n",
    "    - Identifiers can be a combination of letters in lowercase (a to z) or uppercase (A to Z) or digits (0 to 9) or an underscore (_).\n",
    "    - An identifier cannot start with a digit. 1variable is invalid, but variable1 is perfectly fine.\n",
    "    - Keywords cannot be used as identifiers.\n",
    "    - We cannot use special symbols like !, @, #, $, % etc. in our identifier.\n",
    "    - An identifier can be of any length."
   ]
  },
  {
   "cell_type": "code",
   "execution_count": null,
   "metadata": {},
   "outputs": [],
   "source": [
    "# 2 cannot be a variable \n",
    "# a_3 be a variable\n",
    "# a-3 not valid\n",
    "# _ is valid\n",
    "# keywords cannot be a variable"
   ]
  },
  {
   "cell_type": "code",
   "execution_count": null,
   "metadata": {},
   "outputs": [],
   "source": [
    "# Take user input \n",
    "name=input('enter your name: ')\n",
    "print(name)\n",
    "\n",
    "# when we take user input every time take default in string type . because it is a universal type.\n"
   ]
  },
  {
   "cell_type": "code",
   "execution_count": null,
   "metadata": {},
   "outputs": [],
   "source": [
    "# so we have to convert it to other type\n",
    "input1=input(\"enter a no: \")\n",
    "print(input1)\n",
    "print(type(input1)) # type function is to see type of data\n",
    "# type conversion\n",
    "input2=int(input(\"enter a no: \"))\n",
    "print(input2)\n",
    "print(type(input2))\n",
    "\n",
    "list(\"hello\")\n",
    "# type conversion is not permanent "
   ]
  },
  {
   "attachments": {},
   "cell_type": "markdown",
   "metadata": {},
   "source": [
    "## python Literals\n",
    "- A literal is a raw data given in a variable or constant.\n",
    "- In Python, there are various types of literals they are as follows:\n",
    "    - String literals\n",
    "    - Numeric literals\n",
    "    - Boolean literals\n",
    "    - Special literals\n",
    "    - Literal Collections"
   ]
  },
  {
   "cell_type": "code",
   "execution_count": null,
   "metadata": {},
   "outputs": [],
   "source": [
    "# Numeric Literals\n",
    "a= 100 # decimal literal\n",
    "b= 0b100 # binary literal\n",
    "c= 0o100 # octal literal\n",
    "d= 0x100 # hexadecimal literal\n",
    "# float literal \n",
    "e= 1.5\n",
    "f= 1.5e2\n",
    "# complex literal\n",
    "g= 1+2j\n",
    "h= 1.5+2.5j\n",
    "# String Literals\n",
    "i= 'hello world'\n",
    "j= \"hello world\"\n",
    "k= '''hello world'''\n",
    "unicode =u\"\\f100\" # for emoji\n",
    "raw_string = r\"this is \\t raw string\"\n",
    "# Boolean Literals\n",
    "l= True + 4\n",
    "m= False + 10\n",
    "# Special Literals\n",
    "n= None\n",
    "\n",
    "print(a,b,c,d,e,f,g,h,i,j,k,unicode,raw_string,l,m,n)"
   ]
  },
  {
   "attachments": {},
   "cell_type": "markdown",
   "metadata": {},
   "source": [
    "## Operators\n",
    "- Operators are used to perform operations on variables and values.\n",
    "- Python divides the operators in the following groups:\n",
    "    - Arithmetic operators\n",
    "    - Assignment operators\n",
    "    - Comparison operators\n",
    "    - Logical operators\n",
    "    - Identity operators\n",
    "    - Membership operators\n",
    "    - Bitwise operators"
   ]
  },
  {
   "cell_type": "code",
   "execution_count": null,
   "metadata": {},
   "outputs": [],
   "source": [
    "# Arithmetic operator\n",
    "a= 10\n",
    "b= 3\n",
    "print(a+b) #addition  10+3 = 13\n",
    "print(a-b) #subtraction 10-3 = 7\n",
    "print(a*b) #multiplication 10*3 = 30\n",
    "print(a/b) #division 10/3 = 3.3333333333333335\n",
    "print(a%b) #modulus 10%3 = 1\n",
    "print(a//b) #floor division 10//3 = 3\n",
    "print(a**b) #exponent 10**3 = 1000\n",
    "\n",
    "# Comparison operator\n",
    "print (a<b) # false\n",
    "print (a>b) # true\n",
    "print (a<=b) # false\n",
    "print (a>=b) # true\n",
    "print (a==b) # false\n",
    "print (a!=b) # true\n",
    "\n",
    "# Logical operators\n",
    "print (a<b and a<b) # when both value true \n",
    "print (a<b or a<b) # when any one value true\n",
    "print (not a<b) # when value is false\n",
    "\n",
    "# Bitwise operators\n",
    "# its working in integer value \n",
    "print (a&b) # bitwise and \n",
    "print (a|b) # bitwise or\n",
    "print (~a) # bitwise not\n",
    "print (a^b) # bitwise xor\n",
    "print (a>>b) # bitwise right shift\n",
    "print (a<<b) # bitwise left shift\n",
    "\n",
    "# Assignment operators\n",
    "a= 10\n",
    "b= 3\n",
    "a+=b # a=a+b a=10+3=13\n",
    "a-=b # a=a-b a=13-3=10\n",
    "a*=b # a=a*b a=10*3=30\n",
    "a/=b # a=a/b a=30/3=10.0\n",
    "a%=b # a=a%b a=10.0%3=1.0\n",
    "# a//=b # a=a//b a=1.0//3=0.0\n",
    "# a**=b # a=a**b a=0.0**3=0.0\n",
    "# a&=b # a=a&b a=0.0&3=0.0\n",
    "# a|=b # a=a|b a=0.0|3=3.0\n",
    "# a^=b # a=a^b a=3.0^3=0.0\n",
    "# a>>=b # a=a>>b a=0.0>>3=0.0\n",
    "# a<<=b # a=a<<b a=0.0<<3=0.0\n",
    "\n",
    "# Identity operators\n",
    "print (a is b) # a and b is same object\n",
    "print (a is not b) # a and b is not same object\n",
    "\n",
    "# Membership operators\n",
    "list1=[1,2,3,4,5]\n",
    "print (a in list1) # a is in list1\n",
    "print (a not in list1) # a is not in list1"
   ]
  },
  {
   "attachments": {},
   "cell_type": "markdown",
   "metadata": {},
   "source": [
    "## If else statement \n",
    "- The if statement in Python is used when we want to execute a block of code only if a certain condition is satisfied.\n",
    "- Syntax:\n",
    "    - if condition:\n",
    "        - statement(s)\n",
    "    - elif condition:\n",
    "        - statement(s)\n",
    "    - else:\n",
    "        - statement(s)"
   ]
  },
  {
   "cell_type": "code",
   "execution_count": 15,
   "metadata": {},
   "outputs": [
    {
     "name": "stdout",
     "output_type": "stream",
     "text": [
      "login success\n"
     ]
    }
   ],
   "source": [
    "# if else statement using taking input\n",
    "email=input(\"enter your email\")\n",
    "password=input(\"enter your password\")\n",
    "if email==\"pragyanandasaho@gmail.com\" and password==\"12345\":\n",
    "    print(\"login success\")\n",
    "else:\n",
    "    print(\"login failed\")"
   ]
  },
  {
   "cell_type": "code",
   "execution_count": 1,
   "metadata": {},
   "outputs": [
    {
     "name": "stdout",
     "output_type": "stream",
     "text": [
      "login success\n"
     ]
    }
   ],
   "source": [
    "# if elif else statement using taking input\n",
    "email=input(\"enter your email\")\n",
    "password=input(\"enter your password\")\n",
    "if email==\"pragyanandasaho@gmail.com\":\n",
    "    if password==\"12345\":\n",
    "        print(\"login success\")\n",
    "    else:\n",
    "        print(\"password wrong\")\n",
    "elif '@' not in email :\n",
    "    print(\"email is not correct\")\n",
    "else:\n",
    "    print(\"login failed\")"
   ]
  }
 ],
 "metadata": {
  "kernelspec": {
   "display_name": "Python 3",
   "language": "python",
   "name": "python3"
  },
  "language_info": {
   "codemirror_mode": {
    "name": "ipython",
    "version": 3
   },
   "file_extension": ".py",
   "mimetype": "text/x-python",
   "name": "python",
   "nbconvert_exporter": "python",
   "pygments_lexer": "ipython3",
   "version": "3.10.10"
  },
  "orig_nbformat": 4
 },
 "nbformat": 4,
 "nbformat_minor": 2
}
