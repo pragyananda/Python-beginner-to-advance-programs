{
 "cells": [
  {
   "cell_type": "code",
   "execution_count": 2,
   "metadata": {},
   "outputs": [
    {
     "name": "stdout",
     "output_type": "stream",
     "text": [
      "hello world\n",
      "4\n",
      "4.5\n",
      "4\n",
      "hello world\n"
     ]
    }
   ],
   "source": [
    "# print simple hello world\n",
    "print('hello world')\n",
    "# print integer\n",
    "print(4)\n",
    "# print float\n",
    "print(4.5)\n",
    "# print string\n",
    "print('4')\n",
    "# print multiple\n",
    "print('hello', 'world')"
   ]
  },
  {
   "attachments": {},
   "cell_type": "markdown",
   "metadata": {},
   "source": [
    "## python supports 3 categories of data types:\n",
    "- Basic types:(integer,float,boolean and string )\n",
    "- Sequence types:(list,tuple and range)\n",
    "- Mapping types:(dictionary)\n",
    "- User defined :classes"
   ]
  },
  {
   "cell_type": "code",
   "execution_count": 6,
   "metadata": {},
   "outputs": [
    {
     "name": "stdout",
     "output_type": "stream",
     "text": [
      "4\n",
      "4.5\n",
      "discus\n",
      "True\n",
      "(1+2j)\n",
      "[1, 2, 3]\n",
      "(1, 2, 3)\n",
      "{'a': 1, 'b': 2}\n",
      "{1, 2, 3}\n"
     ]
    }
   ],
   "source": [
    "# data types in python \n",
    "#integer\n",
    "print(4)\n",
    "#float\n",
    "print(4.5)\n",
    "#string\n",
    "print('discus')\n",
    "#boolean\n",
    "print(True)\n",
    "# complex\n",
    "print(1+2j)\n",
    "#list\n",
    "print([1,2,3])\n",
    "#tuple\n",
    "print((1,2,3))\n",
    "#dictionary\n",
    "print({'a':1, 'b':2})\n",
    "#set\n",
    "print({1,2,3})\n"
   ]
  },
  {
   "cell_type": "code",
   "execution_count": 1,
   "metadata": {},
   "outputs": [
    {
     "name": "stdout",
     "output_type": "stream",
     "text": [
      "hello world\n"
     ]
    }
   ],
   "source": [
    "# comments\n",
    "# this is a comment to improve code readablity\n",
    "print('hello world') # this is also a comment"
   ]
  },
  {
   "cell_type": "code",
   "execution_count": 2,
   "metadata": {},
   "outputs": [
    {
     "name": "stdout",
     "output_type": "stream",
     "text": [
      "asdasd\n",
      "1 2 3\n",
      "1 1 1\n",
      "1 2 3\n"
     ]
    }
   ],
   "source": [
    "# variables\n",
    "name='asdasd'\n",
    "print(name)\n",
    "# multiple\n",
    "a,b,c=1,2,3\n",
    "print(a,b,c)\n",
    "# multiple\n",
    "a=b=c=1\n",
    "print(a,b,c)\n",
    "# multiple\n",
    "a=1;b=2;c=3\n",
    "print(a,b,c)\n"
   ]
  },
  {
   "attachments": {},
   "cell_type": "markdown",
   "metadata": {},
   "source": [
    "## Keywords\n",
    "- python is a case sensitive language .\n",
    "- Keywords are the reserved words in Python.\n",
    "- We cannot use a keyword as a variable name, function name or any other identifier.\n",
    "- They are used to define the syntax and structure of the Python language.\n",
    "- All the keywords except True, False and None are in lowercase and they must be written as it is."
   ]
  },
  {
   "cell_type": "code",
   "execution_count": null,
   "metadata": {},
   "outputs": [],
   "source": []
  }
 ],
 "metadata": {
  "kernelspec": {
   "display_name": "Python 3",
   "language": "python",
   "name": "python3"
  },
  "language_info": {
   "codemirror_mode": {
    "name": "ipython",
    "version": 3
   },
   "file_extension": ".py",
   "mimetype": "text/x-python",
   "name": "python",
   "nbconvert_exporter": "python",
   "pygments_lexer": "ipython3",
   "version": "3.10.10"
  },
  "orig_nbformat": 4
 },
 "nbformat": 4,
 "nbformat_minor": 2
}
